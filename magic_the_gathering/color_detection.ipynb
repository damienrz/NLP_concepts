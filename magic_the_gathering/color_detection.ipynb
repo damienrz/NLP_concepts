{
 "cells": [
  {
   "cell_type": "markdown",
   "source": [
    "# Load Data"
   ],
   "metadata": {}
  },
  {
   "cell_type": "code",
   "execution_count": 1,
   "source": [
    "import pandas as pd\r\n",
    "\r\n",
    "# read dataframe\r\n",
    "cards_df = pd.read_pickle('mtg_data/cards_df.pickle')\r\n",
    "\r\n",
    "# filter out non mono colored cards and shuffle dataframe\r\n",
    "cards_df = cards_df[cards_df['encoding']!=5]\r\n",
    "cards_df = cards_df.sample(frac=1).reset_index(drop=True)\r\n",
    "cards_df.loc[0, :]"
   ],
   "outputs": [
    {
     "output_type": "execute_result",
     "data": {
      "text/plain": [
       "colorIdentity                                                   [B]\n",
       "convertedManaCost                                               3.0\n",
       "name                                                       Mind Rot\n",
       "originalText                      Target player discards two cards.\n",
       "types                                                     [Sorcery]\n",
       "ja_name                                                        精神腐敗\n",
       "ja_text                            プレイヤー１人を対象とする。そのプレイヤーはカードを２枚捨てる。\n",
       "ja_type                                                       ソーサリー\n",
       "ja_flavorText        「発想の源が失われるのは悲しいものがある。今回のは特に有望そうだったのだが。」 ――アショク\n",
       "encoding                                                          2\n",
       "en_toks                                                 [mind, rot]\n",
       "ja_toks                                                    [精神, 腐敗]\n",
       "Name: 0, dtype: object"
      ]
     },
     "metadata": {},
     "execution_count": 1
    }
   ],
   "metadata": {}
  },
  {
   "cell_type": "markdown",
   "source": [
    "# Capturing the Essence of Each Color"
   ],
   "metadata": {}
  },
  {
   "cell_type": "markdown",
   "source": [
    "### The first thing I want to do is see if I can capture the essence of each color by looking at their token frequencies"
   ],
   "metadata": {}
  },
  {
   "cell_type": "code",
   "execution_count": 2,
   "source": [
    "from collections import Counter, defaultdict\r\n",
    "\r\n",
    "word_freqs = defaultdict(list)\r\n",
    "color_symbol = {0: 'White', 1: 'Blue', 2: 'Black', 3: 'Red', 4: 'Green'}\r\n",
    "\r\n",
    "for i in range(5):\r\n",
    "    card_names = cards_df[cards_df['encoding']==i]['en_toks'].tolist()\r\n",
    "    flattened = [t for tokens in card_names for t in tokens]\r\n",
    "    freqs = Counter(flattened).most_common(20)\r\n",
    "    word_freqs[color_symbol[i]] = [tup[0] for tup in freqs]"
   ],
   "outputs": [],
   "metadata": {}
  },
  {
   "cell_type": "code",
   "execution_count": 3,
   "source": [
    "from tabulate import tabulate\r\n",
    "print(tabulate(word_freqs, headers='keys', tablefmt='rst'))"
   ],
   "outputs": [
    {
     "output_type": "stream",
     "name": "stdout",
     "text": [
      "========  =========  =========  =========  =========\n",
      "White     Blue       Black      Red        Green\n",
      "========  =========  =========  =========  =========\n",
      "angel     drake      vampire    goblin     wurm\n",
      "griffin   sphinx     blood      fire       druid\n",
      "knight    merfolk    death      dragon     spider\n",
      "aven      aether     dead       flame      nature\n",
      "light     jace       phyrexian  lightning  elemental\n",
      "guardian  serpent    dark       ogre       wild\n",
      "spirit    aven       ghoul      rage       growth\n",
      "sliver    elemental  cabal      giant      wolf\n",
      "kor       thought    plague     war        dryad\n",
      "guard     mage       demon      elemental  vine\n",
      "serra     dream      shade      fury       primal\n",
      "shield    wind       witch      burn       elvish\n",
      "paladin   psychic    grave      minotaur   strength\n",
      "soul      mystic     rat        viashino   hunt\n",
      "angelic   cephalid   zombie     shaman     behemoth\n",
      "gideon    mind       soul       mage       troll\n",
      "master    faerie     night      storm      krosan\n",
      "dawn      sea        mind       dwarven    elf\n",
      "captain   sliver     assassin   sliver     centaur\n",
      "blessing  sage       bog        chandra    skyshroud\n",
      "========  =========  =========  =========  =========\n"
     ]
    }
   ],
   "metadata": {}
  },
  {
   "cell_type": "markdown",
   "source": [
    "### This is pretty interesting! This table lists words that give us an insight into aspects of each color. \r\n",
    "### For starters, you can see which creatures are most characterstic of each color. Angels for White, Drakes for Blue, Vampires for Black, Goblins for Red, and Wurms for Green. If someone familiar with mtg were asked to give a representative creature for each color, I could totally see them naming each of these (with the exception of maybe Drakes for Blue)\r\n",
    "### There are also a variety of creature classes associated with each color. Paladins for White, Shamans for Red, etc.\r\n",
    "### But maybe what captures each color's essence the most are the non creature type/class related words. Word's like fury and rage for Red, and growth and wild for Green.  "
   ],
   "metadata": {}
  },
  {
   "cell_type": "markdown",
   "source": [
    "### Since tokens are unique across colors, I want to see if a model can learn to distinguish card colors given each card's name alone. There are definitely tokens that appear in more than one color though; the word elemental for example shows up in Blue, Red, and Green. But let's see how a model performs"
   ],
   "metadata": {}
  },
  {
   "cell_type": "markdown",
   "source": [
    "# BOW Feature Extraction"
   ],
   "metadata": {}
  },
  {
   "cell_type": "markdown",
   "source": [
    "### Since I'm focusing on the words that make up each card name regardless of sequence, I'm going to use a simple a BOW vectorizer "
   ],
   "metadata": {}
  },
  {
   "cell_type": "code",
   "execution_count": 4,
   "source": [
    "from sklearn.model_selection import train_test_split\r\n",
    "from sklearn.feature_extraction.text import CountVectorizer\r\n",
    "\r\n",
    "en_tokens = cards_df['en_toks'].values\r\n",
    "y = cards_df['encoding'].values\r\n",
    "\r\n",
    "tokens_train, tokens_test, y_train, y_test = train_test_split(en_tokens, y, test_size = 0.25, random_state=1000)\r\n",
    "\r\n",
    "# disable analyzer since I'm applying CountVectorizer to list of lemms\r\n",
    "vectorizer = CountVectorizer(analyzer=lambda x: x)\r\n",
    "\r\n",
    "# fit_tranform is used for iterable of strings, it combines the fit and transform steps\r\n",
    "X_train = vectorizer.fit_transform(tokens_train)\r\n",
    "X_test = vectorizer.transform(tokens_test)\r\n",
    "\r\n",
    "print(X_train.shape)\r\n",
    "print(X_test.shape)"
   ],
   "outputs": [
    {
     "output_type": "stream",
     "name": "stdout",
     "text": [
      "(8055, 6869)\n",
      "(2685, 6869)\n"
     ]
    }
   ],
   "metadata": {}
  },
  {
   "cell_type": "markdown",
   "source": [
    "# Naive Bayes MultinomialNB"
   ],
   "metadata": {}
  },
  {
   "cell_type": "markdown",
   "source": [
    "### Since this is a multiclass classification task, I'm going to use Scikit's Naive Bayes MultinomialNB model. I also tried implementing a simple ANN using Pytorch but the accuracy wasn't that far off from the Scikit model. Since the Scikit model is less code I'll just stick with it for this notebook"
   ],
   "metadata": {}
  },
  {
   "cell_type": "code",
   "execution_count": 5,
   "source": [
    "from sklearn import metrics\r\n",
    "from sklearn.naive_bayes import MultinomialNB\r\n",
    "\r\n",
    "clf = MultinomialNB()\r\n",
    "clf.fit(X_train, y_train)\r\n",
    "\r\n",
    "y_pred = clf.predict(X_test)\r\n",
    "print(\"Accuracy:\", metrics.accuracy_score(y_test, y_pred))"
   ],
   "outputs": [
    {
     "output_type": "stream",
     "name": "stdout",
     "text": [
      "Accuracy: 0.5813780260707635\n"
     ]
    }
   ],
   "metadata": {}
  },
  {
   "cell_type": "markdown",
   "source": [
    "### 58% isn't great, but it's still better than a 20% random guess. Let's take a look at where the model's going wrong using a confusion matrix"
   ],
   "metadata": {}
  },
  {
   "cell_type": "code",
   "execution_count": 6,
   "source": [
    "import matplotlib.pyplot as plt\r\n",
    "from sklearn.metrics import plot_confusion_matrix\r\n",
    "\r\n",
    "fig, ax = plt.subplots(figsize=(8, 8))\r\n",
    "disp = plot_confusion_matrix(clf, X_test, y_test,\r\n",
    "                             display_labels=['White', 'Blue', 'Black', 'Red', 'Green'],\r\n",
    "                             cmap=plt.cm.Blues,\r\n",
    "                             normalize=None,\r\n",
    "                             ax=ax)\r\n",
    "disp.ax_.set_title('Confustion Matrix')\r\n",
    "plt.show()"
   ],
   "outputs": [
    {
     "output_type": "display_data",
     "data": {
      "text/plain": [
       "<Figure size 576x576 with 2 Axes>"
      ],
      "image/png": "[encoded data removed]"
     },
     "metadata": {
      "needs_background": "light"
     }
    }
   ],
   "metadata": {}
  },
  {
   "cell_type": "markdown",
   "source": [
    "### It looks like the model is miscategorizing cards as White the most, no matter which color they actually are. I wonder what it is about White that gives the model a disposition towards it. Perhaps it shares more in common with each of the other colors than any of them do with each other. \r\n",
    "### I want to take a look at some examples though and see if I can blame the model for some of these miscategorizations"
   ],
   "metadata": {}
  },
  {
   "cell_type": "code",
   "execution_count": 7,
   "source": [
    "false_blacks = defaultdict(list)\r\n",
    "\r\n",
    "for x, y, p in zip(tokens_test, y_test, y_pred):\r\n",
    "    if color_symbol[y] != 'White' and color_symbol[p] == 'White':\r\n",
    "        false_blacks['card_name'] += [' '.join(x)]\r\n",
    "        false_blacks['actual'] += [color_symbol[y]]\r\n",
    "        false_blacks['predicted'] += [color_symbol[p]]\r\n",
    "    if len(false_blacks['card_name']) >= 10:\r\n",
    "        break\r\n",
    "\r\n",
    "print(tabulate(false_blacks, headers='keys', tablefmt='fancy_grid'))"
   ],
   "outputs": [
    {
     "output_type": "stream",
     "name": "stdout",
     "text": [
      "╒═════════════════════╤══════════╤═════════════╕\n",
      "│ card_name           │ actual   │ predicted   │\n",
      "╞═════════════════════╪══════════╪═════════════╡\n",
      "│ pith driller        │ Black    │ White       │\n",
      "├─────────────────────┼──────────┼─────────────┤\n",
      "│ spelltwine          │ Blue     │ White       │\n",
      "├─────────────────────┼──────────┼─────────────┤\n",
      "│ blightcaster        │ Black    │ White       │\n",
      "├─────────────────────┼──────────┼─────────────┤\n",
      "│ fblthp lost         │ Blue     │ White       │\n",
      "├─────────────────────┼──────────┼─────────────┤\n",
      "│ zealous conscript   │ Red      │ White       │\n",
      "├─────────────────────┼──────────┼─────────────┤\n",
      "│ akroan line breaker │ Red      │ White       │\n",
      "├─────────────────────┼──────────┼─────────────┤\n",
      "│ soulstinger         │ Black    │ White       │\n",
      "├─────────────────────┼──────────┼─────────────┤\n",
      "│ pedantic learning   │ Blue     │ White       │\n",
      "├─────────────────────┼──────────┼─────────────┤\n",
      "│ turn dust           │ Green    │ White       │\n",
      "├─────────────────────┼──────────┼─────────────┤\n",
      "│ hero leina tower    │ Green    │ White       │\n",
      "╘═════════════════════╧══════════╧═════════════╛\n"
     ]
    }
   ],
   "metadata": {}
  },
  {
   "cell_type": "markdown",
   "source": [
    "### For cards like Zealous Conscript I can't really blame the model, I would guess White as well in that case. But Blightcaster I might correctly categorize as Black. It may be that there simply isn't enough uniqueness in the distribution of tokens across colors. I can't help but wonder how well I would do if someone asked me to categorize 10 random cards. \r\n",
    "### But maybe English itself has something to do with it. One thing I noticed is that Spacy doesn't split up compound nouns when tokenizing; I wonder if the model's accuracy would change if a word like Soulstinger was split into Soul and Stinger. On the other hand Spacy usually does split up these sorts of compounds in Japanese. So as a last experiment I want to see if the model performs any better or worse with Japanese, and what colors it might miscategorize. "
   ],
   "metadata": {}
  },
  {
   "cell_type": "markdown",
   "source": [
    "# Testing the Model on Japanese"
   ],
   "metadata": {}
  },
  {
   "cell_type": "code",
   "execution_count": 8,
   "source": [
    "word_freqs = defaultdict(list)\r\n",
    "color_symbol = {0: 'White', 1: 'Blue', 2: 'Black', 3: 'Red', 4: 'Green'}\r\n",
    "\r\n",
    "for i in range(5):\r\n",
    "    card_names = cards_df[cards_df['encoding']==i]['ja_toks'].tolist()\r\n",
    "    flattened = [t for tokens in card_names for t in tokens]\r\n",
    "    freqs = Counter(flattened).most_common(20)\r\n",
    "    word_freqs[color_symbol[i]] = [tup[0] for tup in freqs]"
   ],
   "outputs": [],
   "metadata": {}
  },
  {
   "cell_type": "code",
   "execution_count": 9,
   "source": [
    "# Token frequencies for each color\r\n",
    "\r\n",
    "from tabulate import tabulate\r\n",
    "print(tabulate(word_freqs, headers='keys', tablefmt='rst'))"
   ],
   "outputs": [
    {
     "output_type": "stream",
     "name": "stdout",
     "text": [
      "==========  ============  ==============  ============  ========\n",
      "White       Blue          Black           Red           Green\n",
      "==========  ============  ==============  ============  ========\n",
      "者          者            者              者            者\n",
      "天使        ドレイク      鬼              ゴブリン      獣\n",
      "騎士        師            吸血            炎            ワーム\n",
      "兵          士            血              火            蜘蛛\n",
      "官          霧            死              稲妻          森\n",
      "グリフィン  精神          影              血            エルフ\n",
      "士          魔道          悪魔            ドラゴン      群れ\n",
      "光          空            屍              士            自然\n",
      "魂          呪文          闇              憤怒          ドルイド\n",
      "盾          夢            骨              溶岩          力\n",
      "聖          風            グール          オーガ        狼\n",
      "エイヴン    大            魂              巨人          大\n",
      "人          スフィンクス  精神            魔道          地\n",
      "守護        マーフォーク  夜              怒り          捕食\n",
      "太陽        翼            ファイレクシア  精霊          ウッド\n",
      "神          思考          墓              石            野生\n",
      "師          術師          団              戦士          樹\n",
      "霊          的            魔              的            茨\n",
      "空          幻影          沼              獣            蔦\n",
      "的          霊気          陰謀            ミノタウルス  師\n",
      "==========  ============  ==============  ============  ========\n"
     ]
    }
   ],
   "metadata": {}
  },
  {
   "cell_type": "code",
   "execution_count": 10,
   "source": [
    "# BOW vectorizer\r\n",
    "\r\n",
    "ja_tokens = cards_df['ja_toks'].values\r\n",
    "y = cards_df['encoding'].values\r\n",
    "\r\n",
    "tokens_train, tokens_test, y_train, y_test = train_test_split(ja_tokens, y, test_size = 0.25, random_state=1000)\r\n",
    "\r\n",
    "# disable analyzer since I'm applying CountVectorizer to list of lemms\r\n",
    "vectorizer = CountVectorizer(analyzer=lambda x: x)\r\n",
    "\r\n",
    "# fit_tranform is used for iterable of strings, it combines the fit and transform steps\r\n",
    "X_train = vectorizer.fit_transform(tokens_train)\r\n",
    "X_test = vectorizer.transform(tokens_test)\r\n",
    "\r\n",
    "print(X_train.shape)\r\n",
    "print(X_test.shape)"
   ],
   "outputs": [
    {
     "output_type": "stream",
     "name": "stdout",
     "text": [
      "(8055, 6202)\n",
      "(2685, 6202)\n"
     ]
    }
   ],
   "metadata": {}
  },
  {
   "cell_type": "code",
   "execution_count": 11,
   "source": [
    "# Classification model\r\n",
    "\r\n",
    "clf = MultinomialNB()\r\n",
    "clf.fit(X_train, y_train)\r\n",
    "\r\n",
    "y_pred = clf.predict(X_test)\r\n",
    "print(\"Accuracy:\", metrics.accuracy_score(y_test, y_pred))"
   ],
   "outputs": [
    {
     "output_type": "stream",
     "name": "stdout",
     "text": [
      "Accuracy: 0.6022346368715084\n"
     ]
    }
   ],
   "metadata": {}
  },
  {
   "cell_type": "markdown",
   "source": [
    "### 60%! That's just a little better than the English model. So it looks like the choice of language doesn't have that much of an impact. Let's look at the confusion matrix"
   ],
   "metadata": {}
  },
  {
   "cell_type": "code",
   "execution_count": 12,
   "source": [
    "import matplotlib.pyplot as plt\r\n",
    "from sklearn.metrics import plot_confusion_matrix\r\n",
    "\r\n",
    "fig, ax = plt.subplots(figsize=(8, 8))\r\n",
    "disp = plot_confusion_matrix(clf, X_test, y_test,\r\n",
    "                             display_labels=['White', 'Blue', 'Black', 'Red', 'Green'],\r\n",
    "                             cmap=plt.cm.Blues,\r\n",
    "                             normalize=None,\r\n",
    "                             ax=ax)\r\n",
    "disp.ax_.set_title('Confustion Matrix')\r\n",
    "plt.show()"
   ],
   "outputs": [
    {
     "output_type": "display_data",
     "data": {
      "text/plain": [
       "<Figure size 576x576 with 2 Axes>"
      ],
      "image/png": "[encoded data removed]"
     },
     "metadata": {
      "needs_background": "light"
     }
    }
   ],
   "metadata": {}
  },
  {
   "cell_type": "markdown",
   "source": [
    "### Intersting! It looks like the model is still tending towards White. \r\n",
    "### In the game, each color is allied with two colors and opposed to two. I think it would have been fascinating if the model mistook each color for the colors that it's allied with. This actually happens with Blue to an extent in the English model but not with any colors in the Japanese model.  "
   ],
   "metadata": {}
  }
 ],
 "metadata": {
  "orig_nbformat": 4,
  "language_info": {
   "name": "python",
   "version": "3.8.6",
   "mimetype": "text/x-python",
   "codemirror_mode": {
    "name": "ipython",
    "version": 3
   },
   "pygments_lexer": "ipython3",
   "nbconvert_exporter": "python",
   "file_extension": ".py"
  },
  "kernelspec": {
   "name": "python3",
   "display_name": "Python 3.8.6 64-bit ('nlp_venv': venv)"
  },
  "interpreter": {
   "hash": "b6bdf263dd1b1cef4309b77b00a11a6b470a762f164881b61a60ce80391d462c"
  }
 },
 "nbformat": 4,
 "nbformat_minor": 2
}