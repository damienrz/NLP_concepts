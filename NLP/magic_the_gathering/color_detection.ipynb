{
 "cells": [
  {
   "cell_type": "markdown",
   "source": [
    "# Load Data"
   ],
   "metadata": {}
  },
  {
   "cell_type": "markdown",
   "source": [
    "### In this notebook I'm going to be focusing on a trading card game that was popular when I was growing up called Magic The Gathering. I believe that the game provides an interesting categorization challenge. In the game cards are divided into five different colors (not counting colorless cards and cards with color combinations). Each of these colors signifies a certain ideological faction, and defines the flavor of that color's play style. \n",
    "### I'll start by taking a look at the token frequencies of each color in hopes of gaining some insight into what defines them. Then I'm going to see how well I can train a model to accurately categorize a card's color based only on its name. "
   ],
   "metadata": {}
  },
  {
   "cell_type": "code",
   "execution_count": 1,
   "source": [
    "import pandas as pd\n",
    "\n",
    "# read dataframe\n",
    "cards_df = pd.read_pickle('mtg_data/cards_df.pickle')\n",
    "\n",
    "# filter out non mono colored cards and shuffle dataframe\n",
    "cards_df = cards_df[cards_df['encoding']!=5]\n",
    "cards_df = cards_df.sample(frac=1).reset_index(drop=True)\n",
    "cards_df.loc[0, :]"
   ],
   "outputs": [
    {
     "output_type": "execute_result",
     "data": {
      "text/plain": [
       "colorIdentity                                                      [B]\n",
       "convertedManaCost                                                  1.0\n",
       "name                                              Illness in the Ranks\n",
       "originalText                                Creature tokens get -1/-1.\n",
       "types                                                    [Enchantment]\n",
       "ja_name                                                           集団疾病\n",
       "ja_text                                      クリーチャー・トークンは－１/－１の修整を受ける。\n",
       "ja_type                                                         エンチャント\n",
       "ja_flavorText        「セレズニアは我々への付け届けを拒絶しました。それがいかに間違ったことか知らしめましょう。」...\n",
       "encoding                                                             2\n",
       "en_toks                                                [illness, rank]\n",
       "ja_toks                                                       [集団, 疾病]\n",
       "Name: 0, dtype: object"
      ]
     },
     "metadata": {},
     "execution_count": 1
    }
   ],
   "metadata": {}
  },
  {
   "cell_type": "markdown",
   "source": [
    "***"
   ],
   "metadata": {}
  },
  {
   "cell_type": "markdown",
   "source": [
    "# Capturing the Essence of Each Color"
   ],
   "metadata": {}
  },
  {
   "cell_type": "markdown",
   "source": [
    "### The first thing I want to do is see if I can capture the essence of each color by looking at their token frequencies"
   ],
   "metadata": {}
  },
  {
   "cell_type": "code",
   "execution_count": 2,
   "source": [
    "from collections import Counter, defaultdict\n",
    "\n",
    "word_freqs = defaultdict(list)\n",
    "color_symbol = {0: 'White', 1: 'Blue', 2: 'Black', 3: 'Red', 4: 'Green'}\n",
    "\n",
    "for i in range(5):\n",
    "    card_names = cards_df[cards_df['encoding']==i]['en_toks'].tolist()\n",
    "    flattened = [t for tokens in card_names for t in tokens]\n",
    "    freqs = Counter(flattened).most_common(20)\n",
    "    word_freqs[color_symbol[i]] = [tup[0] for tup in freqs]"
   ],
   "outputs": [],
   "metadata": {}
  },
  {
   "cell_type": "code",
   "execution_count": 3,
   "source": [
    "from tabulate import tabulate\n",
    "print(tabulate(word_freqs, headers='keys', tablefmt='rst'))"
   ],
   "outputs": [
    {
     "output_type": "stream",
     "name": "stdout",
     "text": [
      "========  =========  =========  =========  =========\n",
      "White     Blue       Black      Red        Green\n",
      "========  =========  =========  =========  =========\n",
      "angel     drake      vampire    goblin     wurm\n",
      "griffin   sphinx     blood      fire       druid\n",
      "knight    merfolk    death      dragon     spider\n",
      "aven      aether     dead       flame      nature\n",
      "guardian  serpent    dark       lightning  wolf\n",
      "light     jace       ghoul      ogre       dryad\n",
      "spirit    aven       phyrexian  rage       elemental\n",
      "kor       elemental  demon      giant      growth\n",
      "sliver    dream      cabal      war        wild\n",
      "guard     mage       shade      elemental  vine\n",
      "shield    thought    plague     fury       hunt\n",
      "paladin   wind       witch      burn       strength\n",
      "serra     mind       rat        minotaur   primal\n",
      "soul      faerie     grave      viashino   elvish\n",
      "angelic   psychic    night      shaman     krosan\n",
      "dawn      mystic     soul       storm      elf\n",
      "gideon    cephalid   zombie     mage       centaur\n",
      "captain   sea        assassin   dwarven    behemoth\n",
      "master    adept      mind       kavu       troll\n",
      "wall      sage       bog        chandra    baloth\n",
      "========  =========  =========  =========  =========\n"
     ]
    }
   ],
   "metadata": {}
  },
  {
   "cell_type": "markdown",
   "source": [
    "### This table lists words that give us some insight into each color. \n",
    "### For starters, you can see which creatures are most characterstic of each color. Angels for White, Drakes for Blue, Vampires for Black, Goblins for Red, and Wurms for Green. If someone familiar with mtg were asked to give a representative creature for each color, I could totally see them naming each of these (with the exception of maybe Drakes for Blue)\n",
    "### There are also a variety of creature classes associated with each color. Paladins for White, Shamans for Red, etc.\n",
    "### But maybe what captures each color's essence the most are the non creature type/class related words. Word's like fury and rage for Red, and growth and wild for Green.  "
   ],
   "metadata": {}
  },
  {
   "cell_type": "markdown",
   "source": [
    "### Since tokens are unique across colors, I want to see if a model can learn to distinguish card colors given each card's name alone. There are definitely tokens that appear in more than one color though; the word elemental for example shows up in Blue, Red, and Green. But let's see how a model performs"
   ],
   "metadata": {}
  },
  {
   "cell_type": "markdown",
   "source": [
    "***"
   ],
   "metadata": {}
  },
  {
   "cell_type": "markdown",
   "source": [
    "# BOW Feature Extraction"
   ],
   "metadata": {}
  },
  {
   "cell_type": "markdown",
   "source": [
    "### To start, I want to see if it'll be enough to use a BOW model and not worry about word order. So I'll start by creating a Count Vectorizer"
   ],
   "metadata": {}
  },
  {
   "cell_type": "code",
   "execution_count": 6,
   "source": [
    "from sklearn.feature_extraction.text import CountVectorizer\n",
    "\n",
    "en_tokens = cards_df['en_toks'].values\n",
    "y = cards_df['encoding'].values\n",
    "\n",
    "# disable analyzer since I'm applying CountVectorizer to list of lemms\n",
    "vectorizer = CountVectorizer(analyzer=lambda x: x)"
   ],
   "outputs": [],
   "metadata": {}
  },
  {
   "cell_type": "markdown",
   "source": [
    "# K-Fold Cross Validation"
   ],
   "metadata": {}
  },
  {
   "cell_type": "markdown",
   "source": [
    "### To choose the statistical model with the highest accuracy I'll use ten fold cross validation"
   ],
   "metadata": {}
  },
  {
   "cell_type": "code",
   "execution_count": 5,
   "source": [
    "# classification models\n",
    "from sklearn.svm import SVC\n",
    "from sklearn.naive_bayes import MultinomialNB\n",
    "from sklearn.ensemble import RandomForestClassifier\n",
    "\n",
    "models = [SVC(), MultinomialNB(), RandomForestClassifier()]\n",
    "\n",
    "from sklearn.pipeline import Pipeline\n",
    "from sklearn.model_selection import cross_val_score\n",
    "\n",
    "def get_score(model, vectorizer):\n",
    "    clf = Pipeline([('vect', vectorizer), ('model', model)])\n",
    "    return cross_val_score(clf, en_tokens, y, cv=10) # ndarray\n",
    "\n",
    "for model in models:\n",
    "    scores = get_score(model, vectorizer)\n",
    "    print(f'{model}: {scores.mean()}')"
   ],
   "outputs": [
    {
     "output_type": "stream",
     "name": "stdout",
     "text": [
      "SVC(): 0.5691806331471135\n",
      "MultinomialNB(): 0.5875232774674116\n",
      "RandomForestClassifier(): 0.5430167597765363\n"
     ]
    }
   ],
   "metadata": {}
  },
  {
   "cell_type": "markdown",
   "source": [
    "### Naive Bayes performs the best, so that's the model I'll go with. I'll use a tenth of the data to create a test set and then use the rest to train a naive bayes model"
   ],
   "metadata": {}
  },
  {
   "cell_type": "code",
   "execution_count": 7,
   "source": [
    "from sklearn.model_selection import train_test_split\n",
    "\n",
    "tokens_train, tokens_test, y_train, y_test = train_test_split(en_tokens, y, test_size = 0.10)\n",
    "\n",
    "# fit_tranform is used for iterable of strings, it combines the fit and transform steps\n",
    "X_train = vectorizer.fit_transform(tokens_train)\n",
    "X_test = vectorizer.transform(tokens_test)\n",
    "\n",
    "print(X_train.shape)\n",
    "print(X_test.shape)"
   ],
   "outputs": [
    {
     "output_type": "stream",
     "name": "stdout",
     "text": [
      "(9666, 7606)\n",
      "(1074, 7606)\n"
     ]
    }
   ],
   "metadata": {}
  },
  {
   "cell_type": "code",
   "execution_count": 8,
   "source": [
    "from sklearn import metrics\n",
    "from sklearn.naive_bayes import MultinomialNB\n",
    "\n",
    "clf = MultinomialNB()\n",
    "clf.fit(X_train, y_train)\n",
    "clf.score(X_test, y_test)"
   ],
   "outputs": [
    {
     "output_type": "execute_result",
     "data": {
      "text/plain": [
       "0.6061452513966481"
      ]
     },
     "metadata": {},
     "execution_count": 8
    }
   ],
   "metadata": {}
  },
  {
   "cell_type": "markdown",
   "source": [
    "### 60% isn't great, but it's still three times better than a 20% random guess. I also tried implementing a simple fully connected neural network but the accuracy wasn't that far off from the NB model. Since NB is less code I'll just stick with it for this notebook. \r\n",
    "\r\n",
    "### Let's take a look at where the model's going wrong using a confusion matrix"
   ],
   "metadata": {}
  },
  {
   "cell_type": "code",
   "execution_count": 9,
   "source": [
    "import matplotlib.pyplot as plt\n",
    "from sklearn.metrics import plot_confusion_matrix\n",
    "\n",
    "fig, ax = plt.subplots(figsize=(8, 8))\n",
    "disp = plot_confusion_matrix(clf, X_test, y_test,\n",
    "                             display_labels=['White', 'Blue', 'Black', 'Red', 'Green'],\n",
    "                             cmap=plt.cm.Blues,\n",
    "                             normalize=None,\n",
    "                             ax=ax)\n",
    "disp.ax_.set_title('Confustion Matrix')\n",
    "plt.show()"
   ],
   "outputs": [
    {
     "output_type": "display_data",
     "data": {
      "image/png": "[encoded data removed]",
      "text/plain": [
       "<Figure size 576x576 with 2 Axes>"
      ]
     },
     "metadata": {
      "needs_background": "light"
     }
    }
   ],
   "metadata": {}
  },
  {
   "cell_type": "markdown",
   "source": [
    "### It looks like the model is miscategorizing cards as Black the most, no matter which color they actually are. I want to take a look at some examples though and see if I can blame the model for some of these miscategorizations"
   ],
   "metadata": {}
  },
  {
   "cell_type": "code",
   "execution_count": 12,
   "source": [
    "y_pred = clf.predict(X_test)\n",
    "false_blacks = defaultdict(list)\n",
    "\n",
    "for x, y, p in zip(tokens_test, y_test, y_pred):\n",
    "    if color_symbol[y] != 'Black' and color_symbol[p] == 'Black':\n",
    "        false_blacks['card_name'] += [' '.join(x)]\n",
    "        false_blacks['actual'] += [color_symbol[y]]\n",
    "        false_blacks['predicted'] += [color_symbol[p]]\n",
    "    if len(false_blacks['card_name']) >= 10:\n",
    "        break\n",
    "\n",
    "print(tabulate(false_blacks, headers='keys', tablefmt='fancy_grid'))"
   ],
   "outputs": [
    {
     "output_type": "stream",
     "name": "stdout",
     "text": [
      "╒═════════════════╤══════════╤═════════════╕\n",
      "│ card_name       │ actual   │ predicted   │\n",
      "╞═════════════════╪══════════╪═════════════╡\n",
      "│ rile            │ Red      │ Black       │\n",
      "├─────────────────┼──────────┼─────────────┤\n",
      "│ shunt           │ Red      │ Black       │\n",
      "├─────────────────┼──────────┼─────────────┤\n",
      "│ expose evil     │ White    │ Black       │\n",
      "├─────────────────┼──────────┼─────────────┤\n",
      "│ batterhorn      │ Red      │ Black       │\n",
      "├─────────────────┼──────────┼─────────────┤\n",
      "│ horrid swarm    │ Green    │ Black       │\n",
      "├─────────────────┼──────────┼─────────────┤\n",
      "│ strafe          │ Red      │ Black       │\n",
      "├─────────────────┼──────────┼─────────────┤\n",
      "│ pyroconvergence │ Red      │ Black       │\n",
      "├─────────────────┼──────────┼─────────────┤\n",
      "│ remand          │ Blue     │ Black       │\n",
      "├─────────────────┼──────────┼─────────────┤\n",
      "│ spitebellow     │ Red      │ Black       │\n",
      "├─────────────────┼──────────┼─────────────┤\n",
      "│ demoralize      │ Red      │ Black       │\n",
      "╘═════════════════╧══════════╧═════════════╛\n"
     ]
    }
   ],
   "metadata": {}
  },
  {
   "cell_type": "markdown",
   "source": [
    "### For cards like horrid swarm and Expose Evil I can't really blame the model. It's probably guessing Black based on the words \"horrid\" and \"evil\". This goes to show the importants of word order and semantics in language. A Count Vectorizer alone can't capture that information.\n",
    "\n",
    "### I might be able to capure this information using a convolutional neural network though, and that's what I'm going to try to do next"
   ],
   "metadata": {}
  },
  {
   "cell_type": "markdown",
   "source": [
    "***"
   ],
   "metadata": {}
  },
  {
   "cell_type": "markdown",
   "source": [
    "# Integer Map Feature Extraction"
   ],
   "metadata": {}
  },
  {
   "cell_type": "markdown",
   "source": [
    "### This time instead of a count vectorizer I'll create integer map vectors using keras' preprocessing library. These vectors will be converted to word embeddings later in the Convnet"
   ],
   "metadata": {}
  },
  {
   "cell_type": "code",
   "execution_count": 104,
   "source": [
    "from keras.preprocessing.text import Tokenizer\n",
    "from keras.preprocessing.sequence import pad_sequences\n",
    "\n",
    "tokenizer = Tokenizer(num_words=7500) # keep 7500 most common\n",
    "tokenizer.fit_on_texts(tokens_train)\n",
    "\n",
    "X_train = tokenizer.texts_to_sequences(tokens_train)\n",
    "X_test = tokenizer.texts_to_sequences(tokens_test)\n",
    "\n",
    "vocab_size = len(tokenizer.word_index) + 1 # Adding 1 because of reserved 0 index\n",
    "\n",
    "maxlen = 8 # this cuts sequences that exceed 100\n",
    "\n",
    "X_train = pad_sequences(X_train, padding='post', maxlen=maxlen)\n",
    "X_test = pad_sequences(X_test, padding='post', maxlen=maxlen)\n",
    "\n",
    "print('word tokens:', tokens_train[2])\n",
    "print('padded vectors:', X_train[2])"
   ],
   "outputs": [
    {
     "output_type": "stream",
     "name": "stdout",
     "text": [
      "word tokens: ['kavu', 'runner']\n",
      "padded vectors: [ 36 187   0   0   0   0   0   0]\n"
     ]
    }
   ],
   "metadata": {}
  },
  {
   "cell_type": "markdown",
   "source": [
    "# Convolutional Neural Network"
   ],
   "metadata": {}
  },
  {
   "cell_type": "code",
   "execution_count": 105,
   "source": [
    "import torch\n",
    "import numpy as np\n",
    "import torch.nn as nn\n",
    "import torch.optim as optim\n",
    "import torch.nn.functional as F\n",
    "from torch.utils.data import TensorDataset, DataLoader"
   ],
   "outputs": [],
   "metadata": {}
  },
  {
   "cell_type": "code",
   "execution_count": 110,
   "source": [
    "# create simple CNN\n",
    "\n",
    "class CNN_NLP(nn.Module):\n",
    "    \"\"\"A 1D Convolutional Neural Network\"\"\"\n",
    "    def __init__(self, \n",
    "                 embed_dim=512,\n",
    "                 vocab_size=None,\n",
    "                 filter_sizes=[2, 3, 4],\n",
    "                 num_filters=[10, 10, 10],\n",
    "                 num_classes=5,\n",
    "                 dropout=0.5):\n",
    "\n",
    "        \"\"\"\n",
    "        The constructor for CNN_NLP class.\n",
    "\n",
    "        Args:\n",
    "            embed_dim (int): Dimension of word vectors.\n",
    "            filter_sizes (List[int]): List of filter sizes.\n",
    "            num_filters (List[int]): Number of filters for each filter size.\n",
    "            num_classes (int): Number of classes.\n",
    "            dropout (float): Dropout rate.\n",
    "        \"\"\"\n",
    "\n",
    "        super(CNN_NLP, self).__init__()\n",
    "        # Embedding layer\n",
    "        self.embed_dim = embed_dim\n",
    "        self.embedding = nn.Embedding(num_embeddings=vocab_size,\n",
    "                                        embedding_dim=self.embed_dim,\n",
    "                                        padding_idx=0,\n",
    "                                        max_norm=5.0)\n",
    "        # Conv Network\n",
    "        self.conv1d_list = nn.ModuleList([\n",
    "            nn.Conv1d(in_channels=self.embed_dim,\n",
    "                      out_channels=num_filters[i],\n",
    "                      kernel_size=filter_sizes[i])\n",
    "            for i in range(len(filter_sizes))\n",
    "        ])\n",
    "        # Fully-connected layer and Dropout\n",
    "        self.fc = nn.Linear(np.sum(num_filters), num_classes)\n",
    "        self.dropout = nn.Dropout(p=dropout)\n",
    "\n",
    "    def forward(self, input_ids):\n",
    "        # Get embeddings from input_ids\n",
    "        # Output shape: (b, max_len, embed_dim)\n",
    "        x_embed = self.embedding(input_ids).float()\n",
    "\n",
    "        # Permute x_embed to match input shape requirement of nn.Conv1d\n",
    "        # Output shape: (b, embed_dim, max_len)\n",
    "        x_reshaped = x_embed.permute(0, 2, 1)\n",
    "\n",
    "        # Apply CNN and ReLU. Output shape: (b, num_filters[i], L_out)\n",
    "        x_conv_list = [F.relu(conv1d(x_reshaped)) for conv1d in self.conv1d_list]\n",
    "\n",
    "        # Max pooling. Output shape: (b, num_filters[i], 1)\n",
    "        x_pool_list = [F.max_pool1d(x_conv, kernel_size=x_conv.shape[2])\n",
    "            for x_conv in x_conv_list]\n",
    "        \n",
    "        # Concatenate x_pool_list to feed the fully connected layer.\n",
    "        # Output shape: (b, sum(num_filters))\n",
    "        x_fc = torch.cat([x_pool.squeeze(dim=2) for x_pool in x_pool_list], dim=1)\n",
    "        \n",
    "        # Compute logits. Output shape: (b, n_classes)\n",
    "        logits = self.fc(self.dropout(x_fc))\n",
    "\n",
    "        return logits"
   ],
   "outputs": [],
   "metadata": {}
  },
  {
   "cell_type": "code",
   "execution_count": 111,
   "source": [
    "# set device\n",
    "device = torch.device('cuda' if torch.cuda.is_available() else 'cpu')\n",
    "\n",
    "# convert train and test sets to tensors\n",
    "X_train_tensor = torch.tensor(X_train)\n",
    "X_test_tensor = torch.tensor(X_test)\n",
    "y_train_tensor = torch.from_numpy(y_train)\n",
    "y_test_tensor = torch.from_numpy(y_test)\n",
    "\n",
    "# hyperparameters\n",
    "num_epochs = 10\n",
    "num_classes = 5\n",
    "batch_size = 128\n",
    "learning_rate = 0.001\n",
    "vocab_size = vocab_size\n",
    "\n",
    "# load data\n",
    "train_data = TensorDataset(X_train_tensor, y_train_tensor)\n",
    "train_loader = DataLoader(train_data, batch_size=batch_size, shuffle=True)\n",
    "test_data = TensorDataset(X_test_tensor, y_test_tensor)\n",
    "test_loader = DataLoader(test_data, batch_size=batch_size, shuffle=True)"
   ],
   "outputs": [],
   "metadata": {}
  },
  {
   "cell_type": "code",
   "execution_count": 112,
   "source": [
    "# initialize network\n",
    "\n",
    "cnn_model = CNN_NLP(vocab_size=vocab_size, num_classes=num_classes).to(device)\n",
    "\n",
    "# loss and optimizer\n",
    "\n",
    "criterion = nn.CrossEntropyLoss()\n",
    "optimizer = optim.Adam(cnn_model.parameters(), lr=learning_rate)\n",
    "\n",
    "# train network\n",
    "\n",
    "for epoch in range(num_epochs):\n",
    "    for batch_idx, (data, targets) in enumerate(train_loader):\n",
    "        data = data.to(device=device)\n",
    "        targets = targets.to(device=device)\n",
    "\n",
    "        # forward\n",
    "        logits = cnn_model(data)\n",
    "        loss = criterion(logits, targets)\n",
    "\n",
    "        # backward\n",
    "        optimizer.zero_grad()\n",
    "        loss.backward()\n",
    "\n",
    "        # gradient descent or adam step\n",
    "        optimizer.step()"
   ],
   "outputs": [],
   "metadata": {}
  },
  {
   "cell_type": "code",
   "execution_count": 113,
   "source": [
    "# check accuracy on training & test to see how our model performs\n",
    "\n",
    "def check_accuracy(loader, model):\n",
    "    num_correct = 0\n",
    "    num_samples = 0\n",
    "    model.eval() # evaluation mode\n",
    "\n",
    "    # don't have to compute gradient when checking the accuracy\n",
    "    with torch.no_grad(): \n",
    "        for x, y in loader:\n",
    "            x = x.to(device=device)\n",
    "            y = y.to(device=device)\n",
    "\n",
    "            logits = cnn_model(x)\n",
    "            _, predictions = logits.max(1)\n",
    "            num_correct += (predictions == y).sum()\n",
    "            num_samples += predictions.size(0)\n",
    "\n",
    "        print(f'Got {num_correct} / {num_samples} with accuracy {float(num_correct)/float(num_samples)*100:.2f}')\n",
    "\n",
    "    model.train() # return model to train\n",
    "\n",
    "check_accuracy(train_loader, cnn_model)\n",
    "check_accuracy(test_loader, cnn_model)"
   ],
   "outputs": [
    {
     "output_type": "stream",
     "name": "stdout",
     "text": [
      "Got 9528 / 9666 with accuracy 98.57\n",
      "Got 657 / 1074 with accuracy 61.17\n"
     ]
    }
   ],
   "metadata": {}
  },
  {
   "cell_type": "markdown",
   "source": [
    "### The Convnet performs about as well the the BOW naive bayes classifier. Convnets are designed to be able to capture semantic relationships and context, but the names of magic cards are short, so it might be difficult to find any contextual information that will help. "
   ],
   "metadata": {}
  }
 ],
 "metadata": {
  "orig_nbformat": 4,
  "language_info": {
   "name": "python",
   "version": "3.8.10",
   "mimetype": "text/x-python",
   "codemirror_mode": {
    "name": "ipython",
    "version": 3
   },
   "pygments_lexer": "ipython3",
   "nbconvert_exporter": "python",
   "file_extension": ".py"
  },
  "kernelspec": {
   "name": "python3",
   "display_name": "Python 3.8.10 64-bit ('interview_venv': venv)"
  },
  "interpreter": {
   "hash": "d4c07b70975444a292941c94dc1d2c5ea35c49d310a7c1e2d11fb3d0d39eaaf5"
  }
 },
 "nbformat": 4,
 "nbformat_minor": 2
}