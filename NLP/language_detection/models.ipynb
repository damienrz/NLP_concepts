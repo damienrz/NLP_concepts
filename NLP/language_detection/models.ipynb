{
 "cells": [
  {
   "cell_type": "markdown",
   "source": [
    "# Load Data"
   ],
   "metadata": {}
  },
  {
   "cell_type": "markdown",
   "source": [
    "### This notebook was inspired by an interview question I was asked recently. The question was how I would go about detecting what language a website is written in. Sometimes the language data is simply located in the html, but I want to see if I could train a model that can detect the language by looking at sample sentences. Using the data I scraped from Wikipedia, I'm going to try training a couple different models and see how each of them perform. The goal is to determine the language a given sentence is written in with as high an accuracy as possible"
   ],
   "metadata": {}
  },
  {
   "cell_type": "code",
   "execution_count": 1,
   "source": [
    "import pandas as pd\r\n",
    "\r\n",
    "# read dataframe\r\n",
    "language_df = pd.read_pickle('language_data.pickle')\r\n",
    "\r\n",
    "# shuffle dataframe\r\n",
    "language_df = language_df.sample(frac=1).reset_index(drop=True)\r\n",
    "language_df.head()"
   ],
   "outputs": [
    {
     "output_type": "execute_result",
     "data": {
      "text/plain": [
       "  language                                           sentence  language_code  \\\n",
       "0       en  Alice eats them, and they reduce her again in ...              0   \n",
       "1       de  Alice’s Abenteuer im Wunderland Filmhörspiele ...              3   \n",
       "2       ja  『アリス』の注釈者 は、アリスの物語は（「あらゆる偉大な空想物語と同様に」）どんな象徴的解釈...              1   \n",
       "3       it   –\"Alice nel Paese delle Meraviglie\" rimanda qui.              6   \n",
       "4       zh             愛麗絲觀察著這個過程，並跟蛙先生講了一堆晦澀難懂的話，最後還是讓自己走進屋內              7   \n",
       "\n",
       "                                              tokens  \n",
       "0                         [alice, eat, reduce, size]  \n",
       "1  [alice, ’s, abenteuer, wunderland, filmhörspie...  \n",
       "2  [アリス, 注釈, 者, アリス, 物語, あらゆる, 偉大, 空想, 物語, 同様, どん...  \n",
       "3                     [alice, meraviglie, rimandare]  \n",
       "4  [愛麗, 絲, 觀察, 著這, 過程, 並, 跟, 蛙, 先生, 講, 了, 晦澀, 難懂,...  "
      ],
      "text/html": [
       "<div>\n",
       "<style scoped>\n",
       "    .dataframe tbody tr th:only-of-type {\n",
       "        vertical-align: middle;\n",
       "    }\n",
       "\n",
       "    .dataframe tbody tr th {\n",
       "        vertical-align: top;\n",
       "    }\n",
       "\n",
       "    .dataframe thead th {\n",
       "        text-align: right;\n",
       "    }\n",
       "</style>\n",
       "<table border=\"1\" class=\"dataframe\">\n",
       "  <thead>\n",
       "    <tr style=\"text-align: right;\">\n",
       "      <th></th>\n",
       "      <th>language</th>\n",
       "      <th>sentence</th>\n",
       "      <th>language_code</th>\n",
       "      <th>tokens</th>\n",
       "    </tr>\n",
       "  </thead>\n",
       "  <tbody>\n",
       "    <tr>\n",
       "      <th>0</th>\n",
       "      <td>en</td>\n",
       "      <td>Alice eats them, and they reduce her again in ...</td>\n",
       "      <td>0</td>\n",
       "      <td>[alice, eat, reduce, size]</td>\n",
       "    </tr>\n",
       "    <tr>\n",
       "      <th>1</th>\n",
       "      <td>de</td>\n",
       "      <td>Alice’s Abenteuer im Wunderland Filmhörspiele ...</td>\n",
       "      <td>3</td>\n",
       "      <td>[alice, ’s, abenteuer, wunderland, filmhörspie...</td>\n",
       "    </tr>\n",
       "    <tr>\n",
       "      <th>2</th>\n",
       "      <td>ja</td>\n",
       "      <td>『アリス』の注釈者 は、アリスの物語は（「あらゆる偉大な空想物語と同様に」）どんな象徴的解釈...</td>\n",
       "      <td>1</td>\n",
       "      <td>[アリス, 注釈, 者, アリス, 物語, あらゆる, 偉大, 空想, 物語, 同様, どん...</td>\n",
       "    </tr>\n",
       "    <tr>\n",
       "      <th>3</th>\n",
       "      <td>it</td>\n",
       "      <td>–\"Alice nel Paese delle Meraviglie\" rimanda qui.</td>\n",
       "      <td>6</td>\n",
       "      <td>[alice, meraviglie, rimandare]</td>\n",
       "    </tr>\n",
       "    <tr>\n",
       "      <th>4</th>\n",
       "      <td>zh</td>\n",
       "      <td>愛麗絲觀察著這個過程，並跟蛙先生講了一堆晦澀難懂的話，最後還是讓自己走進屋內</td>\n",
       "      <td>7</td>\n",
       "      <td>[愛麗, 絲, 觀察, 著這, 過程, 並, 跟, 蛙, 先生, 講, 了, 晦澀, 難懂,...</td>\n",
       "    </tr>\n",
       "  </tbody>\n",
       "</table>\n",
       "</div>"
      ]
     },
     "metadata": {},
     "execution_count": 1
    }
   ],
   "metadata": {}
  },
  {
   "cell_type": "markdown",
   "source": [
    "# LangDetect Library"
   ],
   "metadata": {}
  },
  {
   "cell_type": "markdown",
   "source": [
    "### Before I train anything I want to see how accurate the langdetect library would be on this data"
   ],
   "metadata": {}
  },
  {
   "cell_type": "code",
   "execution_count": 2,
   "source": [
    "from collections import Counter\r\n",
    "from langdetect import detect as ld\r\n",
    "\r\n",
    "def get_lang(text):\r\n",
    "    try:\r\n",
    "        return ld(text)\r\n",
    "    except:\r\n",
    "        return 'fail'\r\n",
    "\r\n",
    "accuracy_list = []\r\n",
    "lang_targets = language_df['language'].tolist()\r\n",
    "ld_preds = language_df['sentence'].apply(lambda x: get_lang(x)).tolist()\r\n",
    "for t, p in zip(lang_targets, ld_preds):\r\n",
    "    accuracy_list.append(t==p)\r\n",
    "\r\n",
    "counts = Counter(accuracy_list)\r\n",
    "print(\"Accuracy:\", counts[True]/len(accuracy_list))"
   ],
   "outputs": [
    {
     "output_type": "stream",
     "name": "stdout",
     "text": [
      "Accuracy: 0.8563563563563563\n"
     ]
    }
   ],
   "metadata": {}
  },
  {
   "cell_type": "markdown",
   "source": [
    "### 86% isn't bad; the accuracy may be affected by the quality of the data and not necessarily because of the langetect library"
   ],
   "metadata": {}
  },
  {
   "cell_type": "markdown",
   "source": [
    "# BOW Feature Extraction"
   ],
   "metadata": {}
  },
  {
   "cell_type": "markdown",
   "source": [
    "### Since this model's going to be trained to classify languages, I don't think that sequence will play a critical role. The uniqueness of the words in each language should be enough for a model to learn how to make the correct distinctions. If that's the case then a Bag of Words model should be all I need, so I'll start by creating a count vectorizer"
   ],
   "metadata": {}
  },
  {
   "cell_type": "code",
   "execution_count": 3,
   "source": [
    "from sklearn.feature_extraction.text import CountVectorizer\r\n",
    "\r\n",
    "tokens = language_df['tokens'].values\r\n",
    "y = language_df['language_code'].values\r\n",
    "#y = language_df['language_vector].tolist() # for one-hot-encoding\r\n",
    "\r\n",
    "# disable analyzer since I'm applying CountVectorizer to list of lemms\r\n",
    "vectorizer = CountVectorizer(analyzer=lambda x: x)"
   ],
   "outputs": [],
   "metadata": {}
  },
  {
   "cell_type": "markdown",
   "source": [
    "# K-Fold Cross Validation"
   ],
   "metadata": {}
  },
  {
   "cell_type": "markdown",
   "source": [
    "### There are many different classification models to choose from. Naturally I want to choose the model with the highest accuracy. To accomplish this I'll use ten fold cross validation to compare the accuracies between the Support Vector Machine, Multinomial Naive Bayes, and Random Forest models"
   ],
   "metadata": {}
  },
  {
   "cell_type": "code",
   "execution_count": 4,
   "source": [
    "# classification models\r\n",
    "from sklearn.svm import SVC\r\n",
    "from sklearn.naive_bayes import MultinomialNB\r\n",
    "from sklearn.ensemble import RandomForestClassifier\r\n",
    "\r\n",
    "models = [SVC(), MultinomialNB(), RandomForestClassifier()]\r\n",
    "\r\n",
    "from sklearn.pipeline import Pipeline\r\n",
    "from sklearn.model_selection import cross_val_score\r\n",
    "\r\n",
    "def get_score(model, vectorizer):\r\n",
    "    clf = Pipeline([('vect', vectorizer), ('model', model)])\r\n",
    "    return cross_val_score(clf, tokens, y, cv=10) # ndarray\r\n",
    "\r\n",
    "for model in models:\r\n",
    "    scores = get_score(model, vectorizer)\r\n",
    "    print(f'{model}: {scores.mean()}')"
   ],
   "outputs": [
    {
     "output_type": "stream",
     "name": "stdout",
     "text": [
      "SVC(): 0.7717713567839196\n",
      "MultinomialNB(): 0.9499497487437185\n",
      "RandomForestClassifier(): 0.8293391959798996\n"
     ]
    }
   ],
   "metadata": {}
  },
  {
   "cell_type": "markdown",
   "source": [
    "### Naive Bayes outperforms the other two models! And it's average accuracy is pretty high. Similar to cross validation, for the actual model I'll use a tenth of the data for testing and the rest to train the model"
   ],
   "metadata": {}
  },
  {
   "cell_type": "code",
   "execution_count": 7,
   "source": [
    "from sklearn.model_selection import train_test_split\r\n",
    "\r\n",
    "tokens_train, tokens_test, y_train, y_test = train_test_split(tokens, y, test_size=0.10)\r\n",
    "\r\n",
    "# fit_tranform is used for iterable of strings, it combines the fit and transform steps\r\n",
    "X_train = vectorizer.fit_transform(tokens_train)\r\n",
    "X_test = vectorizer.transform(tokens_test)\r\n",
    "\r\n",
    "print(X_train.shape)\r\n",
    "print(X_test.shape)"
   ],
   "outputs": [
    {
     "output_type": "stream",
     "name": "stdout",
     "text": [
      "(1798, 8866)\n",
      "(200, 8866)\n"
     ]
    }
   ],
   "metadata": {}
  },
  {
   "cell_type": "code",
   "execution_count": 8,
   "source": [
    "from sklearn import metrics\r\n",
    "\r\n",
    "clf = MultinomialNB()\r\n",
    "clf.fit(X_train, y_train)\r\n",
    "clf.score(X_test, y_test)"
   ],
   "outputs": [
    {
     "output_type": "execute_result",
     "data": {
      "text/plain": [
       "0.95"
      ]
     },
     "metadata": {},
     "execution_count": 8
    }
   ],
   "metadata": {}
  },
  {
   "cell_type": "markdown",
   "source": [
    "### The Multinomial Naive Bayes Classifier has an accuracy of 95%. That's not bad. I could imagine sampling some sentences from a website, passing them to the model and choosing the language the model guesses the most. With 95% accuracy for each guess, sampling a few sentences should yeild the correct language. Of course, only having vocabulary from one wikipedia article probably means I'd see this accuracy go down if I tested it on a brand new article. "
   ],
   "metadata": {}
  },
  {
   "cell_type": "markdown",
   "source": [
    "# Linear Nerual Network"
   ],
   "metadata": {}
  },
  {
   "cell_type": "markdown",
   "source": [
    "### Now I'll see if a simple Linear Neural Network performs any better or worse than the Naive Bayes classifier using the same BOW feature extraction. \r\n"
   ],
   "metadata": {}
  },
  {
   "cell_type": "code",
   "execution_count": 9,
   "source": [
    "import torch\r\n",
    "import numpy as np\r\n",
    "import torch.nn as nn\r\n",
    "import torch.optim as optim\r\n",
    "import torch.nn.functional as F\r\n",
    "from torch.utils.data import TensorDataset, DataLoader"
   ],
   "outputs": [],
   "metadata": {}
  },
  {
   "cell_type": "code",
   "execution_count": 10,
   "source": [
    "# create fully connected network\r\n",
    "\r\n",
    "class NN(nn.Module):\r\n",
    "    def __init__(self, vocab_size, hidden_size, num_classes):\r\n",
    "        super(NN, self).__init__()\r\n",
    "        self.fc1 = nn.Linear(vocab_size, hidden_size)\r\n",
    "        self.fc2 = nn.Linear(hidden_size, num_classes)\r\n",
    "\r\n",
    "    def forward(self, x):\r\n",
    "        x = F.relu(self.fc1(x))\r\n",
    "        x = self.fc2(x)\r\n",
    "        return x"
   ],
   "outputs": [],
   "metadata": {}
  },
  {
   "cell_type": "code",
   "execution_count": 11,
   "source": [
    "# set device\r\n",
    "\r\n",
    "device = torch.device('cuda' if torch.cuda.is_available() else 'cpu')\r\n",
    "\r\n",
    "# convert sklearn sparse metrices to torch tensors\r\n",
    "\r\n",
    "# dense layer deals with float datatype\r\n",
    "X_train_tensor = torch.from_numpy(X_train.todense()).float()\r\n",
    "X_test_tensor = torch.from_numpy(X_test.todense()).float()\r\n",
    "y_train_tensor = torch.from_numpy(y_train)\r\n",
    "y_test_tensor = torch.from_numpy(y_test)"
   ],
   "outputs": [],
   "metadata": {}
  },
  {
   "cell_type": "code",
   "execution_count": 12,
   "source": [
    "# hyperparameters\r\n",
    "\r\n",
    "vocab_size = X_train_tensor.shape[1]\r\n",
    "hidden_size = 4000\r\n",
    "num_classes = 8\r\n",
    "learning_rate = 0.001\r\n",
    "batch_size = 32\r\n",
    "num_epochs = 3\r\n",
    "\r\n",
    "# load data\r\n",
    "# TensorData creates a list of tuples with each record containing a BOW vector and a target language\r\n",
    "\r\n",
    "train_data = TensorDataset(X_train_tensor, y_train_tensor)\r\n",
    "train_loader = DataLoader(train_data, batch_size=batch_size, shuffle=True)\r\n",
    "test_data = TensorDataset(X_test_tensor, y_test_tensor)\r\n",
    "test_loader = DataLoader(test_data, batch_size=batch_size, shuffle=True)"
   ],
   "outputs": [],
   "metadata": {}
  },
  {
   "cell_type": "code",
   "execution_count": 13,
   "source": [
    "# initialize network\r\n",
    "\r\n",
    "model = NN(\r\n",
    "    vocab_size=vocab_size, \r\n",
    "    hidden_size=hidden_size, \r\n",
    "    num_classes=num_classes ).to(device)\r\n",
    "\r\n",
    "# loss and optimizer\r\n",
    "\r\n",
    "criterion = nn.CrossEntropyLoss() # CrossEntropyLoss() requires integer-encoded target\r\n",
    "optimizer = optim.Adam(model.parameters(), lr=learning_rate)\r\n",
    "\r\n",
    "# train network\r\n",
    "\r\n",
    "for epoch in range(num_epochs):\r\n",
    "    for batch_idx, (data, targets) in enumerate(train_loader):\r\n",
    "        data = data.to(device=device)\r\n",
    "        targets = targets.to(device=device)\r\n",
    "\r\n",
    "        # forward\r\n",
    "        scores = model(data)\r\n",
    "        loss = criterion(scores, targets)\r\n",
    "\r\n",
    "        # backward\r\n",
    "        optimizer.zero_grad()\r\n",
    "        loss.backward()\r\n",
    "\r\n",
    "        # gradient descent or adam step\r\n",
    "        optimizer.step()"
   ],
   "outputs": [],
   "metadata": {
    "tags": []
   }
  },
  {
   "cell_type": "code",
   "execution_count": 14,
   "source": [
    "# check accuracy on training & test to see how our model performs\r\n",
    "\r\n",
    "def check_accuracy(loader, model):\r\n",
    "    num_correct = 0\r\n",
    "    num_samples = 0\r\n",
    "    model.eval() # evaluation mode\r\n",
    "\r\n",
    "    # don't have to compute gradient when checking the accuracy\r\n",
    "    with torch.no_grad(): \r\n",
    "        for x, y in loader:\r\n",
    "            x = x.to(device=device)\r\n",
    "            y = y.to(device=device)\r\n",
    "\r\n",
    "            scores = model(x)\r\n",
    "            # 64 x 8\r\n",
    "            _, predictions = scores.max(1)\r\n",
    "            num_correct += (predictions == y).sum()\r\n",
    "            num_samples += predictions.size(0)\r\n",
    "\r\n",
    "        print(f'Got {num_correct} / {num_samples} with accuracy {float(num_correct)/float(num_samples)*100:.2f}')\r\n",
    "\r\n",
    "    model.train() # return model to train\r\n",
    "\r\n",
    "check_accuracy(train_loader, model)\r\n",
    "check_accuracy(test_loader, model)"
   ],
   "outputs": [
    {
     "output_type": "stream",
     "name": "stdout",
     "text": [
      "Got 1797 / 1798 with accuracy 99.94\n",
      "Got 196 / 200 with accuracy 98.00\n"
     ]
    }
   ],
   "metadata": {}
  },
  {
   "cell_type": "markdown",
   "source": [
    "### The Neural Network performs with an accuracy of 98% after three epochs! That's definitely an improvement from the Naive Bayes classifier. It's definitely more code, but I'd say it's worth it for the increased accuracy. "
   ],
   "metadata": {}
  }
 ],
 "metadata": {
  "interpreter": {
   "hash": "b6bdf263dd1b1cef4309b77b00a11a6b470a762f164881b61a60ce80391d462c"
  },
  "kernelspec": {
   "name": "python3",
   "display_name": "Python 3.8.6 64-bit ('nlp_venv': venv)"
  },
  "language_info": {
   "name": "python",
   "version": "3.8.6",
   "mimetype": "text/x-python",
   "codemirror_mode": {
    "name": "ipython",
    "version": 3
   },
   "pygments_lexer": "ipython3",
   "nbconvert_exporter": "python",
   "file_extension": ".py"
  },
  "orig_nbformat": 4
 },
 "nbformat": 4,
 "nbformat_minor": 2
}